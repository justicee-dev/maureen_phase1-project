{
 "cells": [
  {
   "cell_type": "markdown",
   "metadata": {},
   "source": [
    "<h2 style=\"font-size:36px;\">A RISK-BASED AIRCRAFT SELECTION ANALYSIS</h2>\n"
   ]
  },
  {
   "cell_type": "markdown",
   "metadata": {},
   "source": [
    "<img src=\"plane.jpg\" width=\"1000\" height=\"700\">"
   ]
  },
  {
   "cell_type": "markdown",
   "metadata": {},
   "source": [
    "<h3 style=\"font-size:36px;\">Overview</h3>\n",
    "\n",
    "\n",
    "<body>\n",
    "The company is venturing into the aviation sector so as to enhance its global market and also enhance its portfolio.After much careful thought and consideration it has spotted an opportunity in both the commercial and private aviation sectors based on cost target niche and strategic location\n",
    "In the commercial sector the company targets to operate on the regional airlines since the company has a good and suitable runway for such transport and also since its a start up in the aviation sector this highly favours the company.In terms of  the private aviation sector the focus is on the charter services and this will transport business elites and government official in an unscheduled way and its fast and one doesn't have to book like a week earlier flight.In order to achieve this the company seeks to acquire an aircraft that is low risk ,maintainable and aligns with the business objectives</body>\n",
    "\n"
   ]
  },
  {
   "cell_type": "markdown",
   "metadata": {},
   "source": [
    "<h3 style=\"font-size:36px;\">Business Understanding</h3>\n"
   ]
  },
  {
   "cell_type": "markdown",
   "metadata": {},
   "source": [
    "<h7 style=\"font-size:36px;\"><b>Problem Statement</b></h7>\n",
    "\n",
    "The company is a newbie in the aviation sector and its main concern  is to select the best aircraft that is low risk in relation to the company’s demand\n",
    "\n",
    "\n",
    "<h7 style=\"font-size:36px;\"><b>Main Objective</b></h7>\n",
    "\n",
    "Its objective is to look for an aircraft that is low risk in terms of operational costs that includes maintenance,fuel,repair ,and customer satisfaction.An aircraft that is safe to use and has a past record of regulation compliance and lastly that satisfies the clients and also the business which is returning on investment.\n"
   ]
  },
  {
   "cell_type": "markdown",
   "metadata": {},
   "source": [
    "<h7 style=\"font-size:36px;\"><b>Specific Objective</b></h7>\n",
    "<ol>\n",
    "To identify an aircraft that has low accident frequency,minimal repair cost and fuel efficiency so has to allow optimal financial feasibility\n",
    "To determine the safety and mechanical adaptability by checking the safest aircraft models with fewer mechanical failures and compliance to safety standards\n",
    "To assess aircraft suitable for regional and private charters that will satisfy the targeted customers and this will increase the profitability of the company’s revenue.\n",
    "</ol>"
   ]
  },
  {
   "cell_type": "code",
   "execution_count": null,
   "metadata": {},
   "outputs": [],
   "source": []
  }
 ],
 "metadata": {
  "kernelspec": {
   "display_name": "Python (learn-env)",
   "language": "python",
   "name": "learn-env"
  },
  "language_info": {
   "codemirror_mode": {
    "name": "ipython",
    "version": 3
   },
   "file_extension": ".py",
   "mimetype": "text/x-python",
   "name": "python",
   "nbconvert_exporter": "python",
   "pygments_lexer": "ipython3",
   "version": "3.8.5"
  }
 },
 "nbformat": 4,
 "nbformat_minor": 4
}
